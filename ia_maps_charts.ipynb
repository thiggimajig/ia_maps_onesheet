{
 "cells": [
  {
   "cell_type": "markdown",
   "metadata": {},
   "source": [
    "This is my workspace for creating some images for the one sheet for the consulting collaboration project between unifi and ia. I want to use Prague report for the design and coloring of the maps. These are all helpful for my cv website showing maps, vizzes, interaction. \n",
    "\n",
    "1. it will include static charts of the general percentages of airbnb impact (made either in arcgis or qgis or inkscape)\n",
    "2. it will include static maps of airbnb data in florence (made either in arcgis or qgis)\n",
    "3. it will include an interactive map of florence before and after the tram lines showing the airbnbs for each (using arcgis first, then leaflet with animation at every stop to show growth)\n"
   ]
  },
  {
   "cell_type": "markdown",
   "metadata": {},
   "source": [
    "(get outline of city with road network and fill up the city with a color according to percent in stat below)\n",
    "1a. Amsterdam - 87 percent of revenue estimated to be commercial full time short term rentals and property portfolios\n",
    "1b. Barcelona - Commercial use on Airbnb estimated to be 75 percent\n",
    "1c. Prague - More than half of apartments listed on Airbnb are by hosts with more than one\n",
    "(get outline of amsterdam house skyline and fill in 1 floor house every 9 floors)\n",
    "1d. Amsterdam - 1 in 9 units rented on airbnb in some neighborhoods\n",
    "(show euro expenses paid to rent or property and with airbnb added in another color )\n",
    "1e. Barcleona rents increase by 7 percent and property prices 19 percent from presence of Airbnb \n",
    "\n",
    "//1f. NYC 15k apartments removed from housing, all renters paid 616m dollars collectively in 2016 due to airbnb\n",
    " "
   ]
  },
  {
   "cell_type": "markdown",
   "metadata": {},
   "source": [
    "2a. The majority of Airbnb use in Florence and almost all revenue is unhosted (show map of unhosted)"
   ]
  },
  {
   "cell_type": "markdown",
   "metadata": {},
   "source": [
    "2b. Airbnb entire home listings are growing an average of x per year and have increadsed x sicne 2016 (use historical data to analyse then show two maps next to each other)"
   ]
  },
  {
   "cell_type": "markdown",
   "metadata": {},
   "source": [
    "2d. X Short term rentals in florence are illegal according to current law (show map of unliscensed)"
   ]
  },
  {
   "cell_type": "markdown",
   "metadata": {},
   "source": [
    "//2c. Airbnb significantly impacts available long-term rentals in Florence (would need to check that this is true) in some neighborhoods entire home listings make up x of available for rent housing units (can i say available for rent if i use the census data point that is the total units, how did he get this data point? because it wouldnt be all units, its available, for rent, goes in with vacancy rate )"
   ]
  }
 ],
 "metadata": {
  "language_info": {
   "name": "python"
  },
  "orig_nbformat": 4
 },
 "nbformat": 4,
 "nbformat_minor": 2
}
